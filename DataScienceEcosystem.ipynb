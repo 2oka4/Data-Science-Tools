{
 "cells": [
  {
   "cell_type": "markdown",
   "id": "8c8a0b9f-d56b-42a6-8414-a59f50299cf6",
   "metadata": {
    "tags": []
   },
   "source": [
    "#                                           Data Science Tools and Ecosystem"
   ]
  },
  {
   "cell_type": "markdown",
   "id": "5aa85e43-442c-4167-bd4b-8325d228aa6f",
   "metadata": {},
   "source": [
    "In this notebook we summarize what we have studied about Data Science Tools"
   ]
  },
  {
   "cell_type": "markdown",
   "id": "5d1d269a-851c-4c93-aeb9-f4023aef9ced",
   "metadata": {
    "tags": []
   },
   "source": [
    "**Objectives:**\n",
    "- Popular languages for Data Science\n",
    "- Popular libraries for Data Science\n",
    "- examples of evaluating arithmetic expressions"
   ]
  },
  {
   "cell_type": "markdown",
   "id": "4b44a72a-2c6b-43cc-a6b7-04c7b05e34c5",
   "metadata": {},
   "source": [
    "The most popular languages used by Data Scientists are:\n",
    "1. Python\n",
    "2. R\n",
    "3. SQL\n",
    "4. Julia"
   ]
  },
  {
   "cell_type": "markdown",
   "id": "5d361b61-c169-4ef7-98b2-70773c0af32a",
   "metadata": {},
   "source": [
    "Some of the commonly used libraries by Data Scientist are:\n",
    "1. MatPotLib\n",
    "2. NumPy\n",
    "3. Pandas\n",
    "4. PyTorch\n",
    "5. Scikit-learn\n"
   ]
  },
  {
   "cell_type": "markdown",
   "id": "4f9ad371-bbb2-43f2-976d-21c264610c44",
   "metadata": {
    "tags": []
   },
   "source": [
    "|Data Science Tools|\n",
    "|-|\n",
    "|RStudio|\n",
    "|Jupiter notebook|\n",
    "|Apache Spark|"
   ]
  },
  {
   "cell_type": "markdown",
   "id": "3c680622-f622-47e7-875e-8d1583cab670",
   "metadata": {},
   "source": [
    "### Below are a few examples of evaluating arithmetic expressions in Python"
   ]
  },
  {
   "cell_type": "code",
   "execution_count": 3,
   "id": "556f992e-ad87-4614-9399-ccd52dfc5750",
   "metadata": {
    "tags": []
   },
   "outputs": [
    {
     "data": {
      "text/plain": [
       "17"
      ]
     },
     "execution_count": 3,
     "metadata": {},
     "output_type": "execute_result"
    }
   ],
   "source": [
    "#This a simple arithmetic expression to mutiply then add integers\n",
    "(3*4)+5"
   ]
  },
  {
   "cell_type": "code",
   "execution_count": 6,
   "id": "21cbcf3e-5781-4ed0-8b55-9d1166d0ba3d",
   "metadata": {
    "tags": []
   },
   "outputs": [
    {
     "data": {
      "text/plain": [
       "3.3"
      ]
     },
     "execution_count": 6,
     "metadata": {},
     "output_type": "execute_result"
    }
   ],
   "source": [
    "#This will convert 200 minutes to hours by diving by 60\n",
    "round(200/60 ,1)"
   ]
  },
  {
   "cell_type": "markdown",
   "id": "2bff703d-c7ec-4738-94ba-a05c8c2a2cd6",
   "metadata": {
    "tags": []
   },
   "source": [
    "## Author\n",
    "Nazar"
   ]
  }
 ],
 "metadata": {
  "kernelspec": {
   "display_name": "Python",
   "language": "python",
   "name": "conda-env-python-py"
  },
  "language_info": {
   "codemirror_mode": {
    "name": "ipython",
    "version": 3
   },
   "file_extension": ".py",
   "mimetype": "text/x-python",
   "name": "python",
   "nbconvert_exporter": "python",
   "pygments_lexer": "ipython3",
   "version": "3.7.12"
  }
 },
 "nbformat": 4,
 "nbformat_minor": 5
}
